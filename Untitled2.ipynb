{
  "nbformat": 4,
  "nbformat_minor": 0,
  "metadata": {
    "colab": {
      "provenance": [],
      "authorship_tag": "ABX9TyOyMS+iD6rlgKp+CRddYNDE",
      "include_colab_link": true
    },
    "kernelspec": {
      "name": "python3",
      "display_name": "Python 3"
    },
    "language_info": {
      "name": "python"
    }
  },
  "cells": [
    {
      "cell_type": "markdown",
      "metadata": {
        "id": "view-in-github",
        "colab_type": "text"
      },
      "source": [
        "<a href=\"https://colab.research.google.com/github/Favpro/Favpro/blob/main/Untitled2.ipynb\" target=\"_parent\"><img src=\"https://colab.research.google.com/assets/colab-badge.svg\" alt=\"Open In Colab\"/></a>"
      ]
    },
    {
      "cell_type": "code",
      "execution_count": null,
      "metadata": {
        "colab": {
          "base_uri": "https://localhost:8080/"
        },
        "id": "Q1tJiTnC8b7k",
        "outputId": "6c0e21e5-2bc4-48e5-a48b-88b589436d12"
      },
      "outputs": [
        {
          "output_type": "stream",
          "name": "stdout",
          "text": [
            "what is your name? joy\n",
            "hello, joy\n",
            "hello, joy\n"
          ]
        }
      ],
      "source": [
        "# Name of user\n",
        "name = input('what is your name? ')\n",
        "# say hello to user\n",
        "print('hello, ' + name)\n",
        "print('hello,',name)"
      ]
    },
    {
      "cell_type": "code",
      "source": [
        "\"\"\"\n",
        "concatenating with commas\n",
        "\"\"\"\n",
        "print(\"hello\",\"name\",\"here\")"
      ],
      "metadata": {
        "colab": {
          "base_uri": "https://localhost:8080/"
        },
        "id": "Uk-qLzLCR7vw",
        "outputId": "34e23d8a-1fd5-4b17-ab77-2913af91f877"
      },
      "execution_count": null,
      "outputs": [
        {
          "output_type": "stream",
          "name": "stdout",
          "text": [
            "hello name here\n"
          ]
        }
      ]
    },
    {
      "cell_type": "code",
      "source": [
        "# using end='\\n' to override\n",
        "name = input('what is your name? ')\n",
        "print('hello,',end='\\n')\n",
        "print(name)"
      ],
      "metadata": {
        "colab": {
          "base_uri": "https://localhost:8080/"
        },
        "id": "GALbLpa9V19w",
        "outputId": "8a25a211-0020-43cb-aa97-2dd87804af6b"
      },
      "execution_count": null,
      "outputs": [
        {
          "output_type": "stream",
          "name": "stdout",
          "text": [
            "what is your name? Joy\n",
            "hello,\n",
            "Joy\n"
          ]
        }
      ]
    },
    {
      "cell_type": "code",
      "source": [
        "# using end='\\n' to override\n",
        "name = input('what is your name? ')\n",
        "print('hello,',end=' ')\n",
        "print(name)\n"
      ],
      "metadata": {
        "colab": {
          "base_uri": "https://localhost:8080/"
        },
        "id": "OU2_VfRiXDIJ",
        "outputId": "d0d25631-c6e3-4c27-940b-65d66e28022f"
      },
      "execution_count": null,
      "outputs": [
        {
          "output_type": "stream",
          "name": "stdout",
          "text": [
            "what is your name? joy\n",
            "hello, joy\n"
          ]
        }
      ]
    },
    {
      "cell_type": "code",
      "source": [],
      "metadata": {
        "id": "4xbx_ROkZCWX"
      },
      "execution_count": null,
      "outputs": []
    },
    {
      "cell_type": "code",
      "source": [
        "# using sep=' ' to override\n",
        "name = input('what is your name? ')\n",
        "print('hello,',name,sep='???')"
      ],
      "metadata": {
        "colab": {
          "base_uri": "https://localhost:8080/"
        },
        "id": "C7M0W50OYHUL",
        "outputId": "5bc16b2e-16a7-4eb0-d77e-dd8fc3142777"
      },
      "execution_count": null,
      "outputs": [
        {
          "output_type": "stream",
          "name": "stdout",
          "text": [
            "what is your name? joy\n",
            "hello,???joy\n"
          ]
        }
      ]
    },
    {
      "cell_type": "code",
      "source": [
        "# using quotation marks\n",
        "print('\"friend\"')"
      ],
      "metadata": {
        "colab": {
          "base_uri": "https://localhost:8080/"
        },
        "id": "r8ZqjUjmZVlW",
        "outputId": "0f625288-79b9-4c6a-f095-3ca6a4716d83"
      },
      "execution_count": null,
      "outputs": [
        {
          "output_type": "stream",
          "name": "stdout",
          "text": [
            "\"friend\"\n"
          ]
        }
      ]
    },
    {
      "cell_type": "code",
      "source": [
        "# using quotation marks with backslash(\\)\n",
        "print('\\'friend\\'')"
      ],
      "metadata": {
        "colab": {
          "base_uri": "https://localhost:8080/"
        },
        "id": "sVFdgbcUZ2Ec",
        "outputId": "4648cbbb-0473-4ce8-ad83-296c9f917d1d"
      },
      "execution_count": null,
      "outputs": [
        {
          "output_type": "stream",
          "name": "stdout",
          "text": [
            "'friend'\n"
          ]
        }
      ]
    },
    {
      "cell_type": "code",
      "source": [
        "# using format strings (f{})\n",
        "name = input('what is your name? ')\n",
        "print(f'hello, {name}')"
      ],
      "metadata": {
        "colab": {
          "base_uri": "https://localhost:8080/"
        },
        "id": "0fl-78d8a7Op",
        "outputId": "e7bfde35-0373-476c-8d8e-95de58f3a423"
      },
      "execution_count": null,
      "outputs": [
        {
          "output_type": "stream",
          "name": "stdout",
          "text": [
            "what is your name? joy\n",
            "hello, joy\n"
          ]
        }
      ]
    },
    {
      "cell_type": "code",
      "source": [
        "# Fixing users inputs\n",
        "name = input('what is your name? ')\n",
        "# remove whitespace from str\n",
        "name = name.strip()\n",
        "# capitalize user's input/name\n",
        "name = name.capitalize()\n",
        "# capitalize first letter of all words in input\n",
        "name = name.title()\n",
        "print(f'hello, {name}')"
      ],
      "metadata": {
        "colab": {
          "base_uri": "https://localhost:8080/"
        },
        "id": "fQ8zmO4fdW3A",
        "outputId": "2da137f2-4a81-4b81-faff-7bdb963e8d52"
      },
      "execution_count": null,
      "outputs": [
        {
          "output_type": "stream",
          "name": "stdout",
          "text": [
            "what is your name?     joy tree     \n",
            "hello, Joy Tree\n"
          ]
        }
      ]
    },
    {
      "cell_type": "code",
      "source": [
        "# fixing user's input\n",
        "name = input('what is your name? ')\n",
        "# remove whitespace & capitalize at once\n",
        "name = name.strip().title()\n",
        "print(f'hello, {name}')"
      ],
      "metadata": {
        "colab": {
          "base_uri": "https://localhost:8080/"
        },
        "id": "MPtAvS2Zf9zN",
        "outputId": "e8029315-fb8b-4114-8093-28d6518acb89"
      },
      "execution_count": null,
      "outputs": [
        {
          "output_type": "stream",
          "name": "stdout",
          "text": [
            "what is your name?     joy nut   \n",
            "hello, Joy Nut\n"
          ]
        }
      ]
    },
    {
      "cell_type": "code",
      "source": [
        "# fixing user's input\n",
        "# remove whitespace & capitalize at once\n",
        "name = input('what is your name? ').strip().title()\n",
        "# splitting user's input\n",
        "first, last = name.split(' ')\n",
        "print(f'hello, {first}')\n",
        "print(f'hello, {last}')"
      ],
      "metadata": {
        "colab": {
          "base_uri": "https://localhost:8080/"
        },
        "id": "MI9iI6EDhGCw",
        "outputId": "36add103-1f27-4bc6-f3a3-0db8a6081eb3"
      },
      "execution_count": null,
      "outputs": [
        {
          "output_type": "stream",
          "name": "stdout",
          "text": [
            "what is your name? joy nut\n",
            "hello, Joy\n",
            "hello, Nut\n"
          ]
        }
      ]
    },
    {
      "cell_type": "code",
      "source": [
        "name = input('Full Name ').strip().title()\n",
        "age = input('Age ').strip().title()\n",
        "print(name)\n",
        "print(age)"
      ],
      "metadata": {
        "colab": {
          "base_uri": "https://localhost:8080/"
        },
        "id": "U0Wpv7htRFsy",
        "outputId": "bd29a6ad-318f-4a57-fc95-8df1ea7538cd"
      },
      "execution_count": null,
      "outputs": [
        {
          "output_type": "stream",
          "name": "stdout",
          "text": [
            "Full Name Joy  james\n",
            "Age 13\n",
            "Joy  James\n",
            "13\n"
          ]
        }
      ]
    },
    {
      "cell_type": "code",
      "source": [
        "# calculator 1\n",
        "x = input('what is x?')\n",
        "y = input('what is y?')\n",
        "z = int(x) + int(y)\n",
        "print(z)"
      ],
      "metadata": {
        "colab": {
          "base_uri": "https://localhost:8080/"
        },
        "id": "RD8wE5pKXtFs",
        "outputId": "3034cbd4-797d-4a86-e725-04ff93642a60"
      },
      "execution_count": null,
      "outputs": [
        {
          "output_type": "stream",
          "name": "stdout",
          "text": [
            "what is x?4\n",
            "what is y?5\n",
            "9\n"
          ]
        }
      ]
    },
    {
      "cell_type": "code",
      "source": [
        "# calculator 1.1\n",
        "x = int(input('what is x?'))\n",
        "y = int(input('what is y?'))\n",
        "print(x + y)"
      ],
      "metadata": {
        "colab": {
          "base_uri": "https://localhost:8080/"
        },
        "id": "bnSvt-20aCvq",
        "outputId": "a6884219-106d-40af-bf4f-0f93f5c01d86"
      },
      "execution_count": null,
      "outputs": [
        {
          "output_type": "stream",
          "name": "stdout",
          "text": [
            "what is x?3\n",
            "what is y?5\n",
            "8\n"
          ]
        }
      ]
    },
    {
      "cell_type": "code",
      "source": [
        "# calculator using float\n",
        "x = float(input('what is x'))\n",
        "y = float(input('what is y'))\n",
        "print(x + y)"
      ],
      "metadata": {
        "colab": {
          "base_uri": "https://localhost:8080/"
        },
        "id": "R0n-3E6zbXOU",
        "outputId": "38b5f123-c701-44a6-dffd-75020b3e5a1e"
      },
      "execution_count": null,
      "outputs": [
        {
          "output_type": "stream",
          "name": "stdout",
          "text": [
            "what is x6.9\n",
            "what is y2.3\n",
            "9.2\n"
          ]
        }
      ]
    },
    {
      "cell_type": "code",
      "source": [
        "# calculator 1.2 approximation and adding comma to number using (:,)\n",
        "x = float(input('what is x'))\n",
        "y = float(input('what is y'))\n",
        "# round to specific number of decimal points\n",
        "z = round(x / y,3)\n",
        "print(f'answer is {z:,}')"
      ],
      "metadata": {
        "colab": {
          "base_uri": "https://localhost:8080/"
        },
        "id": "A63uXkvQctNZ",
        "outputId": "2130c9af-8393-4973-ffa3-996de226c62e"
      },
      "execution_count": null,
      "outputs": [
        {
          "output_type": "stream",
          "name": "stdout",
          "text": [
            "what is x999\n",
            "what is y1.3\n",
            "answer is 768.462\n"
          ]
        }
      ]
    },
    {
      "cell_type": "code",
      "source": [
        "# round to specific number of decimal points\n",
        "x = float(input('what is x'))\n",
        "y = float(input('what is y'))\n",
        "z = x + y\n",
        "print(f'{z:.0f}')"
      ],
      "metadata": {
        "colab": {
          "base_uri": "https://localhost:8080/"
        },
        "id": "Zk3UQtaqee6M",
        "outputId": "7f21c1b9-27a1-42d4-d46b-3fbf6855c22f"
      },
      "execution_count": null,
      "outputs": [
        {
          "output_type": "stream",
          "name": "stdout",
          "text": [
            "what is x999\n",
            "what is y1.3\n",
            "1000\n"
          ]
        }
      ]
    },
    {
      "cell_type": "code",
      "source": [
        "# def"
      ],
      "metadata": {
        "id": "Cw8yzR4eEbqm"
      },
      "execution_count": null,
      "outputs": []
    }
  ]
}